{
 "cells": [
  {
   "cell_type": "code",
   "execution_count": 8,
   "metadata": {},
   "outputs": [
    {
     "data": {
      "text/plain": [
       "True"
      ]
     },
     "execution_count": 8,
     "metadata": {},
     "output_type": "execute_result"
    }
   ],
   "source": [
    "from dotenv import load_dotenv\n",
    "from pprint import pprint\n",
    "\n",
    "load_dotenv('../.env')"
   ]
  },
  {
   "cell_type": "code",
   "execution_count": 6,
   "metadata": {},
   "outputs": [],
   "source": [
    "OPENAI_MODEL=\"gpt-4o\"\n",
    "\n",
    "JOB_SAMPLES = \"../data/job_samples\"\n",
    "CV_SAMPLES = \"../data/cv_samples\""
   ]
  },
  {
   "cell_type": "code",
   "execution_count": 11,
   "metadata": {},
   "outputs": [],
   "source": [
    "def get_job_description(file_name: str):\n",
    "    with open(f\"{JOB_SAMPLES}/{file_name}\", \"r\") as file:\n",
    "        return file.read()\n"
   ]
  },
  {
   "cell_type": "code",
   "execution_count": 27,
   "metadata": {},
   "outputs": [],
   "source": [
    "from PyPDF2 import PdfReader\n",
    "\n",
    "def get_cv_text_from_pdf(file_name: str):\n",
    "    reader = PdfReader(f\"{CV_SAMPLES}/{file_name}\")\n",
    "    text = \"\"\n",
    "    for page in reader.pages:\n",
    "        text += page.extract_text() + \"\\n\"\n",
    "    return text\n",
    "\n"
   ]
  },
  {
   "cell_type": "code",
   "execution_count": 31,
   "metadata": {},
   "outputs": [],
   "source": [
    "from pydantic import BaseModel, Field\n",
    "\n",
    "\n",
    "class JobRequirements(BaseModel):\n",
    "    position: str = Field(description=\"The job position (e.g. 'Backend Developer')\")\n",
    "    position_level: str = Field(description=\"The level of the job position (e.g. 'Senior, Middle, Junior, Unknown')\")\n",
    "    technical_skills: list[str] = Field(description=\"The technical skills required for the job, mark 'or' for alternatives (e.g. ['Python or Kotlin or C#', 'Django', 'PostgreSQL'])\")\n",
    "    requirements: list[str] = Field(description=\"All key requirements for the job as a list of strings (e.g.['At least 3 years of experience developing software applications using (Golang/Java/Kotlin/C#/C++)', 'Excellent problem-solving and communication skills.'])\")\n",
    "    experience_years: int = Field(description=\"The number of years of experience required for the job (e.g. 3)\")\n",
    "    education: str = Field(description=\"The education required for the job: level and field of study (e.g. 'Bachelor of Science in Computer Science')\")\n",
    "    language_skills: str = Field(description=\"The language skills and level of proficiency (e.g. 'English, Native') \")\n",
    "    \n",
    "\n",
    "class CVFeatures(BaseModel):\n",
    "    name: str = Field(description=\"The full name of the CV (e.g. 'John Doe')\")\n",
    "    email: str = Field(description=\"The email of the CV (e.g. 'john.doe@example.com')\")\n",
    "    location: str = Field(description=\"The location of the CV (e.g. 'London, UK')\")\n",
    "    position: str = Field(description=\"The job position from the CV (e.g. 'Backend Developer')\")\n",
    "    position_level: str = Field(description=\"The level of the job position from the CV (e.g. 'Senior, Middle, Junior, Unknown')\")\n",
    "    experience_years: int = Field(description=\"The number of years of experience from the CV on the position (e.g. 3)\")\n",
    "    technical_skills: list[str] = Field(description=\"The technical skills from the CV on the position (e.g. ['Python', 'Django', 'PostgreSQL'])\")\n",
    "    experience: list[str] = Field(description=\"The experience from the CV on the position\")\n",
    "    achievements: list[str] = Field(description=\"The particular achievements from the CV on the position\")\n",
    "    education: list[str] = Field(description=\"The education from the CV\")\n",
    "    language_skills: list[str] = Field(description=\"The language skills and level of proficiency from the CV on the position (e.g. ['English intermediate', 'Russian native'])\") \n"
   ]
  },
  {
   "cell_type": "code",
   "execution_count": 32,
   "metadata": {},
   "outputs": [],
   "source": [
    "from openai import OpenAI\n",
    "client = OpenAI()\n",
    "\n",
    "\n",
    "def extract_job_requirements(job_description: str):\n",
    "    system_prompt = (\"You are an assistant with the task of extracting precise information from job description. \"\n",
    "                     \"You will be prompted with the contents of a job description. Your task is to extract requirements \"\n",
    "                     \"for the job position, position level, technical skills, experience years, education, language skills \"\n",
    "                     \"and other requirements from this job description. \"\n",
    "                     \"\\n\\n\"\n",
    "                     \"Do your best to include as many requirements as possible!\")\n",
    "    \n",
    "    messages = [\n",
    "        {\"role\": \"system\", \"content\": system_prompt},\n",
    "        {\"role\": \"user\", \"content\": job_description},\n",
    "      ]\n",
    "    \n",
    "    \n",
    "    response = client.beta.chat.completions.parse(\n",
    "      model=OPENAI_MODEL,\n",
    "      messages=messages,\n",
    "      response_format=JobRequirements\n",
    "    )\n",
    "    \n",
    "    return response.choices[0].message.parsed\n",
    "\n",
    "\n",
    "def extract_cv_features(cv_text: str):\n",
    "    system_prompt = (\"You are an assistant with the task of extracting precise information from CV. \"\n",
    "                     \"You will be prompted with the contents of a CV. Your task is to extract features \"\n",
    "                     \"for the CV: name, email, location, position, position level, experience years, technical skills, \"\n",
    "                     \"experience, achievements, education, language skills. \"\n",
    "                     \"\\n\\n\"\n",
    "                     \"Do your best to include as many requirements as possible!\")                 \n",
    "    \n",
    "    messages = [\n",
    "        {\"role\": \"system\", \"content\": system_prompt},\n",
    "        {\"role\": \"user\", \"content\": cv_text},\n",
    "      ]\n",
    "    \n",
    "    response = client.beta.chat.completions.parse(\n",
    "      model=OPENAI_MODEL,\n",
    "      messages=messages,\n",
    "      response_format=CVFeatures\n",
    "    )\n",
    "    \n",
    "    return response.choices[0].message.parsed\n",
    "                         \n",
    "    "
   ]
  },
  {
   "cell_type": "code",
   "execution_count": 52,
   "metadata": {},
   "outputs": [],
   "source": [
    "class ComparisonResult(BaseModel):\n",
    "    position_match: int = Field(description=\"The score for the position name match. Be careful, some position has different names but same meaning (0-10)\")\n",
    "    technical_skills_match: int = Field(description=\"The score for the technical skills match. How many required skills are present in the CV (0-10)\")\n",
    "    experience_years_match: bool = Field(description=\"The score for the experience years match. True if the experience years are equal or greater than required, otherwise False\")\n",
    "    experience_match: int = Field(description=\"The score for the experience match. How many experience requirements are present in the CV (0-10)\")\n",
    "    achievements_match: int = Field(description=\"The score for the achievements match. How many achievements from the CV are associated with the job requirements (0-10)\")\n",
    "    education_match: int = Field(description=\"The score for the education match. How fully one of the education from the CV is matched with the job education requirements: education level and field of study (0-10)\")\n",
    "    language_skills_match: int = Field(description=\"The score for the language skills match. How many language skills from the CV are matched with the job language skills requirements (0-10)\")\n",
    "\n",
    "\n",
    "def compare_cv_with_job(cv_features: CVFeatures, job_requirements: JobRequirements):\n",
    "    system_prompt = (\"You are an assistant with the task of comparing CV with job requirements. \"\n",
    "                     \"You will be prompted with the CV features and job requirements. Your task is to compare \"\n",
    "                     \"the CV with the job requirements and return the score for each category. \"\n",
    "                     \"The score is a number between 0 and 10. \"\n",
    "                     \"The score is calculated based on the following criteria: \"\n",
    "                     \"1. Position match: 0-10, how well the position from the CV matches the position from the job requirements \"\n",
    "                     \"2. Technical skills match: 0-10, how many required skills are present in the CV \"\n",
    "                     \"3. Experience years match: True/False, if the experience years from the CV are equal or greater than required \"\n",
    "                     \"4. Experience match: 0-10, how many experience requirements are present in the CV \"\n",
    "                     \"5. Achievements match: 0-10, how many achievements from the CV are associated with the job requirements \"\n",
    "                     \"6. Education match: 0-10, how fully one of the education from the CV is matched with the job education requirements: education level and field of study \"\n",
    "                     \"7. Language skills match: 0-10, how many language skills from the CV are matched with the job language skills requirements \"\n",
    "                     \"Return the score for each category as a dictionary with the category name as the key and the score as the value. \"\n",
    "                     \"For example: {'position_match': 8, 'technical_skills_match': 9, 'experience_years_match': True, 'experience_match': 7, 'achievements_match': 6, 'education_match': 8, 'language_skills_match': 7}\")\n",
    "    \n",
    "    user_prompt = f\"CV features: {cv_features}\\nJob requirements: {job_requirements}\"\n",
    "    \n",
    "    messages = [\n",
    "        {\"role\": \"system\", \"content\": system_prompt},\n",
    "        {\"role\": \"user\", \"content\": user_prompt},\n",
    "      ]\n",
    "    \n",
    "    response = client.beta.chat.completions.parse(\n",
    "      model=OPENAI_MODEL,\n",
    "      messages=messages,\n",
    "      response_format=ComparisonResult\n",
    "    )\n",
    "    \n",
    "    return response.choices[0].message.parsed\n",
    "\n",
    "                \n",
    "\n"
   ]
  },
  {
   "cell_type": "code",
   "execution_count": 42,
   "metadata": {},
   "outputs": [
    {
     "name": "stdout",
     "output_type": "stream",
     "text": [
      "Backend Developer\n",
      "Golang\n",
      "\n",
      "\n",
      "Remotely\n",
      "Worldwide\n",
      "Привет! Мы — Space307, международная финтех-компания полного цикла. В нашей команде 280+ сотрудников в области разработки и маркетинга.\n",
      "\n",
      "Мы топим за адекватность и рационализм, работаем в кросс-функциональных продуктовых командах, любим совместные тусовки и не любим бюрократию.\n",
      " Мы ищем коллегу, Go-разработчика, для того чтобы создавать и развивать продуктовые сервисы финансовой компании в составе кросс-функциональной команды.\n",
      "Чем предстоит заниматься:\n",
      "Разрабатывать и поддерживать микросервисы на Go\n",
      "Участвовать в планировании и доведении задач до результата\n",
      "Брать ответственность за работоспособность сервисов и принятием участия в их эксплуатации.\n",
      "Ключевые теги проекта:\n",
      "Go, WebSocket, MySQL, Redis, Kafka, RabbitMQ, Clickhouse, Cassandra.\n",
      "\n",
      "Мы ждём, что ты:\n",
      "Имеешь опыт разработки на golang от трёх лет\n",
      "Обладаешь опытом написания сложных SQL-запросов (MySQL, ClickHouse, Vertica)\n",
      "Обладаешь опытом работы с очередями и брокерами сообщений (RabbitMQ, Kafka)\n",
      "Будет плюсом:\n",
      "Опыт работы с Docker/Kubernetes\n",
      "Владение иными языками (python, php, js).\n",
      "Что тебя ждёт в Space307:\n",
      "Комфорт и достойные условия: удалённая работа из любой точки мира, гибкое начало рабочего дня, и, конечно же, конкурентный уровень заработной платы.\n",
      "Развитие: подберём вместе лучшее обучение, подготовим к участию в конференциях за счёт компании\n",
      "Забота: приятные подарки к важным событиям в жизни, страховка в зависимости от твоей локации\n",
      "Мероприятия на любой вкус: тренинги, семинары, конференции, лекции, мастер-классы. А также тимбилдинги и корпоративы, впечатляющие своим масштабом\n",
      "Хакатоны, марафоны, квесты и турниры: коллеги объединяются в команды, создают крутые идеи и проекты и получают за это не менее крутые призы\n",
      "Настоящая команда: здесь дают честный фидбэк, приходят на помощь и болеют за результат.\n"
     ]
    }
   ],
   "source": [
    "descr = get_job_description('job2.txt')\n",
    "print(descr)\n"
   ]
  },
  {
   "cell_type": "code",
   "execution_count": 43,
   "metadata": {},
   "outputs": [
    {
     "name": "stdout",
     "output_type": "stream",
     "text": [
      "position='Backend Developer' position_level='Unknown' technical_skills=['Golang', 'WebSocket', 'MySQL', 'Redis', 'Kafka or RabbitMQ', 'Clickhouse', 'Cassandra', 'Docker or Kubernetes', 'Python or PHP or JS'] requirements=['Experience in Golang development for at least 3 years', 'Experience writing complex SQL queries (MySQL, ClickHouse, Vertica)', 'Experience with message queues and brokers (RabbitMQ, Kafka)'] experience_years=3 education='Unknown' language_skills='Unknown'\n"
     ]
    }
   ],
   "source": [
    "job_requirements = extract_job_requirements(descr)\n",
    "print(job_requirements)"
   ]
  },
  {
   "cell_type": "code",
   "execution_count": 68,
   "metadata": {},
   "outputs": [
    {
     "name": "stdout",
     "output_type": "stream",
     "text": [
      "Кутепов Максим Владимирович\n",
      "Мужчина, 24 года, родился 7 сентября 2000\n",
      "+7 (902) 5846757  — предпочитаемый способ связи\n",
      "xydensgm@gmail.com\n",
      "Проживает: Екатеринбург\n",
      "Гражданство: Россия, есть разрешение на работу: Россия\n",
      "Готов к переезду, не готов к командировкам\n",
      "Желаемая должность и зарплата\n",
      "Golang разработчик\n",
      "Специализации:\n",
      "—  Программист, разработчик\n",
      "Занятость: полная занятость\n",
      "График работы: полный день\n",
      "Желательное время в пути до работы: не имеет значения\n",
      "Опыт работы — 7 лет 3 месяца\n",
      "Май 2024 —\n",
      "настоящее время\n",
      "7 месяцевITEZ\n",
      "Node.js разработчик\n",
      "Проект - b2c и b2b обменник криптовалюты, кастодиальный кошелёк. Разрабатывали систему с\n",
      "широким набором интеграций с различными платежными системами и блокчейнами.\n",
      "- Разрабатывал сервиc интеграций с палатежными системами на NodeJS и NextJS\n",
      "- Создал систему анализа транзакций и балансов кошельков на базе Clickhouse, Kafka, Kafka\n",
      "Connect и NestJS\n",
      "- Автоматизировал интеграцинонное тестирование перечисленных систем\n",
      "Технологии и инструменты: TypeScript, NodeJS, Nestjs, Postgres, Kafka, ClickHouse, Docker, Git,\n",
      "GitLab\n",
      "Ноябрь 2021 —\n",
      "Апрель 2024\n",
      "2 года 6 месяцевООО \"ОктаКод\" / ООО \"ЦЕНТР РАЗРАБОТКИ СИЭЕКСАЙО РУС\"\n",
      "Backend developer / Tech Lead\n",
      "Проект - криптовалютный маржинальный брокер, изначально существовавший внутри\n",
      "экосистемы биржи cex.io, затем превратившийся в отдельный бизнес.\n",
      "- Спроектировал микросервисную архитектуру проекта после отделения брокера в отдельный\n",
      "стартап\n",
      "- Разрабатывал сервисы управления счетами клиентов и anti-fraud на NestJS, Nodejs и TypeScript\n",
      "с использованием Postgres и RabbitMQ\n",
      "- Разрабатывал сервисы для аналитики и автоматизации управления ликвидностью на Golang с\n",
      "использованием ClickHouse и Postgres\n",
      "- Внедрил монорепозиторий для front-end и Server Side Rendering на Next.js для лендингов, что\n",
      "упростило управление зависимостями и ускорило разработку\n",
      "- Настроил GitLab CI для деплоя в Kubernetes и AWS Lambda, писал Helm Chart-ы и Terraform\n",
      "конфиги совместно с DevOps инженером\n",
      "- Готовил ТЗ на разработку сервисов для outsource команды и выполнял приемку и запуск\n",
      "разработанного ей сервиса\n",
      "- Проводил интервью для найма front-end и back-end инженеров, организовал процесс\n",
      "Резюме обновлено 19 ноября 2024 в 15:39\n",
      "онбординга, достиг существенного ускорения погружения новых разработчиков в проект\n",
      "- Внедрил unit-тестирование и интеграционное тестирование\n",
      "Технологии и инструменты: TypeScript, Go, NodeJS, React, Nestjs, Nextjs, PostgreSQL, ClickHouse,\n",
      "Mongo, RabbitMQ, Redis, Kubernetes, Docker, Helm, AWS, AWS Lambda, Terraform, Redash,\n",
      "KeyCloak, Eslint\n",
      "Январь 2021 —\n",
      "Ноябрь 2021\n",
      "11 месяцевBotHelp\n",
      "Москва\n",
      "Информационные технологии, системная интеграция, интернет\n",
      "• Интернет-компания (поисковики, платежные системы, соц.сети,\n",
      "информационно-познавательные и развлекательные ресурсы, продвижение сайтов и\n",
      "прочее)\n",
      "• Разработка программного обеспечения\n",
      "Node.js Tech Lead\n",
      "Проект - платформа для no-code создания ботов в мессенджерах Telegram, Whatsapp, Viber и\n",
      "социальных сетях.\n",
      "- Занимался разработкой на Node.JS, TypeScript, NestJS и PHP, работал с MySQL, Redis, RabbitMQ\n",
      "- Ускорил в 7 раз массовые рассылки сообщений в мессенджерах путём создания специальной\n",
      "масштабируемой системы контейнеров-отправителей взаимодействующих через Redis\n",
      "- Внедрял расширенное логирование Logstash, Elastic, Kibana (ELK стэк) и метрики Prometheus +\n",
      "Grafana для повышения observability проекта\n",
      "- проектировал backend и инфраструктуру(авторизация, API gateway, rate limiter) для\n",
      "публичного API\n",
      "- Решал проблему слишком медленной разработки путем слияния избыточно раздробленных\n",
      "микросервисов и библиотек, автоматизации процессов через Gitlab CI скрипты\n",
      "- Совместно в DevOps инженером внедрял Docker и Kubernetes\n",
      "- Внедрил unit-тестирование\n",
      "- Реализовал интеграцию API Whatsapp\n",
      "- Переработал систему хранения и поиска сообщений на базе NodeJS и ElasticSearch\n",
      "- Проводил интервью back-end инженеров, организовывал онбординг\n",
      "Технологии и инструменты: TypeScript, NodeJS, Nestjs, MySQL, ElasticSearch, RabbitMQ, Redis,\n",
      "Docker, Eslint\n",
      "Декабрь 2019 —\n",
      "Декабрь 2020\n",
      "1 год 1 месяцООО \"ТриниДата\"\n",
      "Full-Stack разработчик\n",
      "Занимался созданием web-редактора для разработанной в компании онтологической системы\n",
      "\"АрхиГраф\". Редактор имел возможность real time взаимодействия нескольких пользователей,\n",
      "кэширования онтолгической модели и экспорта данных в различных форматах, поиска по\n",
      "онтологи\n",
      "- Разрабатывал back-end приложения на Node.js, TypeScript, Postgres, Kafka, RabbitMQ\n",
      "- Разрабатывал frontend на Vue 2\n",
      "- Реализовал одновременную работу нескольких пользователей с одной формой, используя\n",
      "WebSockets и REST API\n",
      "- Разработал несколько приложений для работы с онтологиями под нужды конкретных\n",
      "заказчиков из газо- и нефтедобывающей отрасли\n",
      "Технологии и инструменты: Node.js, TypeScript, Vue 2, SASS/SCSS, Docker, Kubernetes\n",
      "Май 2019 —\n",
      "Декабрь 2019\n",
      "8 месяцевBoto-on\n",
      "Backend разработчик\n",
      "Кутепов Максим  •  Резюме обновлено 19 ноября 2024 в 15:39\n",
      "Проект по созданию автоматизированных браузерных ботов для торговли на маркетплейсах\n",
      "онлайнг игр(например, steam marketplace). Трейдинговые боты по сути выполняли стратегию\n",
      "\"купить дешевле - продать дороже\".\n",
      "- Создал SDK для написания скриптов действий ботов, обеспечивающую поведение ботов,\n",
      "схоже с поведением реальных пользователей(реалистичные траектории движения мыши,\n",
      "случайные задержки, проверка видимости элементов, etc)\n",
      "- Разработал систему развертывания и оркестрации сотен ботов, доставки скриптов к ботам,\n",
      "отслеживания состояния\n",
      "- Подключил несколько внешних сервисов разгадывания Captcha и реализовал\n",
      "автоматический выбор наиболее подходящего и наиболее доступного сервиса под каждый\n",
      "запрос\n",
      "- Создал админ-панель для управления всей системой на VueJS\n",
      "Технологии и инструменты: JavaScript, Node.js, Headless Chrome, Typescript, PHP, gRPC, VueJS\n",
      "Сентябрь 2017 —\n",
      "Декабрь 2019\n",
      "2 года 4 месяцаАзия-Маркет\n",
      "Разработчик\n",
      "Работал на частичной занятости, занимался разработкой плагинов и утилит для интернет\n",
      "магазина и его партнеров\n",
      "1. Создал плагин реферальной программы на PHP для CMS интернет магазина\n",
      "2. Создал систему управления ключами и лицензиями для B2B проекта на Laravel и PHP\n",
      "3. Разработал утилиту для переноса контента из одного Instagram аккаунта в другой на PHP,\n",
      "Node.js и React\n",
      "4. Разработал систему управления контентом и калькулятор стоимости перевозки для\n",
      "мультиязычного портала транспортной компании на Node.js, TypeScript и React\n",
      "Образование\n",
      "Неоконченное высшее\n",
      "2022 Уральский федеральный университет имени первого\n",
      "Президента России Б.Н. Ельцина, Екатеринбург\n",
      "Радиотехнический, Программная инженерия\n",
      "Навыки\n",
      "Знание языков Русский — Родной\n",
      "Английский — B1 — Средний\n",
      "Навыки  Golang      JavaScript      Node.js      Docker      Go      React      TypeScript      NestJS \n",
      " RabbitMQ      Gitlab      Backend      PostgreSQL      Linux      Clickhouse      VueJS \n",
      " Kubernetes      Микросервисная архитектура      AWS      PHP      SQL \n",
      " Apache Kafka      Frontend      Grafana      Agile      Scrum      Blockchain      NoSQL \n",
      " Helm      Terraform \n",
      "Опыт вождения\n",
      "Имеется собственный автомобиль\n",
      "Права категории B\n",
      "Кутепов Максим  •  Резюме обновлено 19 ноября 2024 в 15:39\n",
      "\n"
     ]
    }
   ],
   "source": [
    "cv_text = get_cv_text_from_pdf('cv3.pdf')\n",
    "print(cv_text)"
   ]
  },
  {
   "cell_type": "code",
   "execution_count": 69,
   "metadata": {},
   "outputs": [
    {
     "name": "stdout",
     "output_type": "stream",
     "text": [
      "CVFeatures(name='Кутепов Максим Владимирович', email='xydensgm@gmail.com', location='Екатеринбург', position='Golang разработчик', position_level='Unknown', experience_years=7, technical_skills=['Golang', 'JavaScript', 'Node.js', 'Docker', 'Go', 'React', 'TypeScript', 'NestJS', 'RabbitMQ', 'Gitlab', 'Backend', 'PostgreSQL', 'Linux', 'Clickhouse', 'VueJS', 'Kubernetes', 'Микросервисная архитектура', 'AWS', 'PHP', 'SQL', 'Apache Kafka', 'Frontend', 'Grafana', 'Agile', 'Scrum', 'Blockchain', 'NoSQL', 'Helm', 'Terraform'], experience=['ITEZ: Node.js разработчик - разработка b2c и b2b обменника криптовалюты и кастодиального кошелька, интеграция с платежными системами и блокчейнами, создание системы анализа транзакций и балансов кошельков.', \"ООО 'ОктаКод'/ ООО 'ЦЕНТР РАЗРАБОТКИ СИЭЕКСАЙО РУС': Backend developer / Tech Lead - проектирование микросервисной архитектуры криптовалютного маржинального брокера, управление счетами клиентов и anti-fraud сервисами, внедрение монорепозитория и CI процессов, проведение интервью и онбординга.\", 'BotHelp: Node.js Tech Lead - разработка платформы для no-code создания ботов, ускорение массовых рассылок, внедрение расширенного логирования и метрик observability, решение проблем медленной разработки за счет слияния микросервисов, интеграция API Whatsapp.'], achievements=['Ускорил в 7 раз массовые рассылки сообщений в мессенджерах.', 'Создал систему анализа транзакций и балансов кошельков на базе Clickhouse, Kafka, Kafka Connect и NestJS.', 'Спроектировал микросервисную архитектуру и внедрил GitLab CI для деплоя в Kubernetes и AWS Lambda.'], education=['Неоконченное высшее: Уральский федеральный университет имени первого Президента России Б.Н. Ельцина, Екатеринбург, Радиотехнический, Программная инженерия'], language_skills=['Русский — Родной', 'Английский — B1 — Средний'])\n"
     ]
    }
   ],
   "source": [
    "cv_features = extract_cv_features(cv_text)\n",
    "pprint(cv_features)"
   ]
  },
  {
   "cell_type": "code",
   "execution_count": 70,
   "metadata": {},
   "outputs": [
    {
     "name": "stdout",
     "output_type": "stream",
     "text": [
      "position_match=8 technical_skills_match=8 experience_years_match=True experience_match=8 achievements_match=9 education_match=5 language_skills_match=0\n"
     ]
    }
   ],
   "source": [
    "comparison = compare_cv_with_job(cv_features, job_requirements)\n",
    "print(comparison)\n"
   ]
  },
  {
   "cell_type": "code",
   "execution_count": 71,
   "metadata": {},
   "outputs": [
    {
     "data": {
      "text/plain": [
       "75"
      ]
     },
     "execution_count": 71,
     "metadata": {},
     "output_type": "execute_result"
    }
   ],
   "source": [
    "def total_match_score(comparison: ComparisonResult):\n",
    "    weights = {\n",
    "        'position_match': 4,\n",
    "        'experience_years_match': 3,\n",
    "        'technical_skills_match': 2,\n",
    "        'experience_match': 3,\n",
    "        'achievements_match': 3,\n",
    "        'education_match': 1,\n",
    "        'language_skills_match': 1,\n",
    "    }\n",
    "    \n",
    "    max_score = 0\n",
    "    total_score = 0\n",
    "\n",
    "    total_score += comparison.position_match * weights['position_match']\n",
    "    total_score += comparison.technical_skills_match * weights['technical_skills_match']\n",
    "    total_score += int(comparison.experience_years_match) * weights['experience_years_match']\n",
    "    total_score += comparison.experience_match * weights['experience_match']\n",
    "    total_score += comparison.achievements_match * weights['achievements_match']\n",
    "    total_score += comparison.education_match * weights['education_match']\n",
    "    total_score += comparison.language_skills_match * weights['language_skills_match']\n",
    "\n",
    "    max_score += weights['position_match'] * 10\n",
    "    max_score += weights['technical_skills_match'] * 10\n",
    "    max_score += weights['experience_years_match'] * 1\n",
    "    max_score += weights['experience_match'] * 10\n",
    "    max_score += weights['achievements_match'] * 10\n",
    "    max_score += weights['education_match'] * 10\n",
    "    max_score += weights['language_skills_match'] * 10\n",
    "\n",
    "    return round(total_score / max_score * 100)\n",
    "\n",
    "total_match_score(comparison)"
   ]
  },
  {
   "cell_type": "code",
   "execution_count": null,
   "metadata": {},
   "outputs": [],
   "source": []
  }
 ],
 "metadata": {
  "kernelspec": {
   "display_name": "Python 3",
   "language": "python",
   "name": "python3"
  },
  "language_info": {
   "codemirror_mode": {
    "name": "ipython",
    "version": 3
   },
   "file_extension": ".py",
   "mimetype": "text/x-python",
   "name": "python",
   "nbconvert_exporter": "python",
   "pygments_lexer": "ipython3",
   "version": "3.12.8"
  }
 },
 "nbformat": 4,
 "nbformat_minor": 2
}
